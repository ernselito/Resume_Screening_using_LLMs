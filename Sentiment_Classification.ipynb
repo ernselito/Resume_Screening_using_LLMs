{
  "nbformat": 4,
  "nbformat_minor": 0,
  "metadata": {
    "colab": {
      "provenance": [],
      "include_colab_link": true
    },
    "kernelspec": {
      "name": "python3",
      "display_name": "Python 3"
    },
    "language_info": {
      "name": "python"
    }
  },
  "cells": [
    {
      "cell_type": "markdown",
      "metadata": {
        "id": "view-in-github",
        "colab_type": "text"
      },
      "source": [
        "<a href=\"https://colab.research.google.com/github/ernselito/Resume_Screening_using_LLMs/blob/master/Classification_With_LLM(1).ipynb\" target=\"_parent\"><img src=\"https://colab.research.google.com/assets/colab-badge.svg\" alt=\"Open In Colab\"/></a>"
      ]
    },
    {
      "cell_type": "markdown",
      "source": [
        "## Importing Libraries"
      ],
      "metadata": {
        "id": "43MI4f5vwfGJ"
      }
    },
    {
      "cell_type": "code",
      "source": [
        "import numpy as np\n",
        "from tqdm import tqdm\n",
        "from transformers.pipelines.pt_utils import KeyDataset\n",
        "from datasets import load_dataset\n",
        "from transformers import pipeline\n",
        "from sklearn.metrics import classification_report\n",
        "from sklearn.linear_model import LogisticRegression\n",
        "from sklearn.metrics import confusion_matrix, ConfusionMatrixDisplay\n",
        "import matplotlib.pyplot as plt"
      ],
      "metadata": {
        "id": "uAJpiycBHwOQ"
      },
      "execution_count": null,
      "outputs": []
    },
    {
      "cell_type": "markdown",
      "source": [
        "# Loading Data"
      ],
      "metadata": {
        "id": "Nt_9OEKPH5-5"
      }
    },
    {
      "cell_type": "code",
      "execution_count": null,
      "metadata": {
        "id": "3eWzvbVOwa16"
      },
      "outputs": [],
      "source": [
        "\n",
        "# Load our data\n",
        "data = load_dataset(\"rotten_tomatoes\")"
      ]
    },
    {
      "cell_type": "markdown",
      "source": [
        "### Calling for the first row of the tarining set"
      ],
      "metadata": {
        "id": "P1KXEcwJICA2"
      }
    },
    {
      "cell_type": "code",
      "source": [
        "data['train'][0,1]"
      ],
      "metadata": {
        "id": "hH--1vR0wkqj"
      },
      "execution_count": null,
      "outputs": []
    },
    {
      "cell_type": "markdown",
      "source": [
        "# Methodology"
      ],
      "metadata": {
        "id": "Q2oDe1CLwwjb"
      }
    },
    {
      "cell_type": "markdown",
      "source": [
        "Classification with Representation Models"
      ],
      "metadata": {
        "id": "frUybuHjw0MD"
      }
    },
    {
      "cell_type": "markdown",
      "source": [
        "I load the RoBERTa-base model which is trained on ~124M tweets from January 2018 to December 2021, and finetuned for sentiment analysis with the TweetEval benchmark."
      ],
      "metadata": {
        "id": "FN8_A-x7IXqR"
      }
    },
    {
      "cell_type": "code",
      "source": [
        "\n",
        "# Path to our HF model\n",
        "model_path = \"cardiffnlp/twitter-roberta-base-sentiment-latest\"\n",
        "# Load model into pipeline\n",
        "pipe = pipeline(model=model_path, tokenizer=model_path, return_all_scores=True)"
      ],
      "metadata": {
        "id": "KiJuPr8awrDE"
      },
      "execution_count": null,
      "outputs": []
    },
    {
      "cell_type": "code",
      "source": [
        "\n",
        "# Run inference\n",
        "y_pred = []\n",
        "for output in tqdm(pipe(KeyDataset(data[\"test\"], \"text\")),\n",
        "                   total=len(data[\"test\"])):\n",
        "                   negative_score = output[0][\"score\"]\n",
        "                   positive_score = output[2][\"score\"]\n",
        "                   assignment = np.argmax([negative_score, positive_score])\n",
        "                   y_pred.append(assignment)"
      ],
      "metadata": {
        "id": "wsITqOmiw_3T"
      },
      "execution_count": null,
      "outputs": []
    },
    {
      "cell_type": "markdown",
      "source": [
        "Perform elevaluation of the model"
      ],
      "metadata": {
        "id": "7VbEESz9Isdm"
      }
    },
    {
      "cell_type": "code",
      "source": [
        "\n",
        "def evaluate_performance(y_true, y_pred):\n",
        "  \"\"\"Create and print the classification report\"\"\"\n",
        "  performance = classification_report(y_true, y_pred,\n",
        "                                      target_names=[\"Negative Review\", \"Positive Review\"])\n",
        "  return performance\n",
        "print(evaluate_performance(data[\"test\"][\"label\"], y_pred))"
      ],
      "metadata": {
        "id": "Hw7bIqujx3kz"
      },
      "execution_count": null,
      "outputs": []
    },
    {
      "cell_type": "markdown",
      "source": [
        "I load the sentence-transformers model: This maps sentences and paragraphs to a 768 dimensional dense vector space."
      ],
      "metadata": {
        "id": "Gg9XR9-uJDNe"
      }
    },
    {
      "cell_type": "code",
      "source": [
        "from sentence_transformers import SentenceTransformer\n",
        "# Load model\n",
        "model = SentenceTransformer(\"sentence-transformers/all-mpnet-base-v2\")\n",
        "# Convert text to embeddings\n",
        "train_embeddings = model.encode(data[\"train\"][\"text\"], show_progress_bar=True)\n",
        "test_embeddings = model.encode(data[\"test\"][\"text\"], show_progress_bar=True)"
      ],
      "metadata": {
        "id": "ewGWw033zoyE"
      },
      "execution_count": null,
      "outputs": []
    },
    {
      "cell_type": "code",
      "source": [
        "train_embeddings.shape"
      ],
      "metadata": {
        "id": "EwQeIYGJzt93"
      },
      "execution_count": null,
      "outputs": []
    },
    {
      "cell_type": "markdown",
      "source": [
        "I train a logistic regression on our train embeddings"
      ],
      "metadata": {
        "id": "-_uc_T65JJ9v"
      }
    },
    {
      "cell_type": "code",
      "source": [
        "\n",
        "# Train a logistic regression on our train embeddings\n",
        "clf = LogisticRegression(random_state=42)\n",
        "clf.fit(train_embeddings, data[\"train\"][\"label\"])\n",
        "\n",
        "# Predict previously unseen instances\n",
        "y_pred = clf.predict(test_embeddings)\n",
        "evaluate_performance(data[\"test\"][\"label\"], y_pred)"
      ],
      "metadata": {
        "id": "nlwTewmkzxxc"
      },
      "execution_count": null,
      "outputs": []
    },
    {
      "cell_type": "code",
      "source": [
        "# Performance of the second model\n",
        "print(evaluate_performance(data[\"test\"][\"label\"], y_pred))"
      ],
      "metadata": {
        "id": "Ug5l-7w03eRv"
      },
      "execution_count": null,
      "outputs": []
    },
    {
      "cell_type": "code",
      "source": [
        "# Add Analysis & Improvements\n",
        "misclassified_indices = [i for i, (true, pred) in enumerate(zip(data[\"test\"][\"label\"], y_pred)) if true != pred]\n",
        "print(f\"Number of misclassified examples: {len(misclassified_indices)}\")\n",
        "\n",
        "# Looking at some errors\n",
        "for i in misclassified_indices[:3]:\n",
        "    print(f\"Text: {data['test']['text'][i]}\")\n",
        "    print(f\"True: {data['test']['label'][i]}, Predicted: {y_pred[i]}\")\n",
        "    print(\"---\")"
      ],
      "metadata": {
        "id": "4O4ok-Fu3oxl"
      },
      "execution_count": null,
      "outputs": []
    },
    {
      "cell_type": "markdown",
      "source": [
        "I calculate the confusion matrix graph of the results"
      ],
      "metadata": {
        "id": "1RpXsIVJJdEg"
      }
    },
    {
      "cell_type": "code",
      "source": [
        "cm = confusion_matrix(data[\"test\"][\"label\"], y_pred)\n",
        "disp = ConfusionMatrixDisplay(confusion_matrix=cm)\n",
        "disp.plot()\n",
        "plt.show()"
      ],
      "metadata": {
        "id": "suMAceDt3zDb"
      },
      "execution_count": null,
      "outputs": []
    }
  ]
}